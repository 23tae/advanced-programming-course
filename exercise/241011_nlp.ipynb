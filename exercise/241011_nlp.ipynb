{
 "cells": [
  {
   "cell_type": "markdown",
   "metadata": {},
   "source": [
    "# Konlpy 사용"
   ]
  },
  {
   "cell_type": "code",
   "execution_count": 1,
   "metadata": {},
   "outputs": [],
   "source": [
    "from konlpy.tag import Okt"
   ]
  },
  {
   "cell_type": "code",
   "execution_count": 2,
   "metadata": {},
   "outputs": [],
   "source": [
    "okt = Okt()"
   ]
  },
  {
   "cell_type": "code",
   "execution_count": 3,
   "metadata": {},
   "outputs": [
    {
     "name": "stdout",
     "output_type": "stream",
     "text": [
      "Morphs: ['우리', '는', '인공', '지능', '을', '만들기', '위해', '서', '공부', '한다']\n",
      "Pos tagging: [('우리', 'Noun'), ('는', 'Josa'), ('인공', 'Noun'), ('지능', 'Noun'), ('을', 'Josa'), ('만들기', 'Noun'), ('위해', 'Noun'), ('서', 'Josa'), ('공부', 'Noun'), ('한다', 'Verb')]\n"
     ]
    }
   ],
   "source": [
    "sentence = \"우리는 인공지능을 만들기 위해서 공부한다\"\n",
    "\n",
    "# Perform morphological analysis(형태소 분석)\n",
    "morphs = okt.morphs(sentence)\n",
    "print(\"Morphs:\", morphs)\n",
    "\n",
    "# Perform part-of-speech tagging(품사 태깅)\n",
    "pos = okt.pos(sentence)\n",
    "print(\"Pos tagging:\", pos)"
   ]
  },
  {
   "cell_type": "markdown",
   "metadata": {},
   "source": [
    "# Mecab-ko 사용"
   ]
  },
  {
   "cell_type": "code",
   "execution_count": 3,
   "metadata": {},
   "outputs": [],
   "source": [
    "from mecab import MeCab"
   ]
  },
  {
   "cell_type": "code",
   "execution_count": 4,
   "metadata": {},
   "outputs": [],
   "source": [
    "mecab = MeCab()"
   ]
  },
  {
   "cell_type": "code",
   "execution_count": 5,
   "metadata": {},
   "outputs": [
    {
     "name": "stdout",
     "output_type": "stream",
     "text": [
      "Morphs: ['내', '가', '그린', '기린', '그림', '은', '목', '이', '긴', '기린', '그린', '그림', '이', '고', ',', '네', '가', '그린', '기린', '그림', '은', '목', '이', '안', '긴', '기린', '그린', '그림', '이', '다', '.']\n",
      "Pos tagging: [('내', 'NP'), ('가', 'JKS'), ('그린', 'VV+ETM'), ('기린', 'NNG'), ('그림', 'NNG'), ('은', 'JX'), ('목', 'NNG'), ('이', 'JKS'), ('긴', 'VA+ETM'), ('기린', 'NNG'), ('그린', 'VV+ETM'), ('그림', 'NNG'), ('이', 'VCP'), ('고', 'EC'), (',', 'SC'), ('네', 'NP'), ('가', 'JKS'), ('그린', 'VV+ETM'), ('기린', 'NNG'), ('그림', 'NNG'), ('은', 'JX'), ('목', 'NNG'), ('이', 'JKS'), ('안', 'MAG'), ('긴', 'VA+ETM'), ('기린', 'NNG'), ('그린', 'VV+ETM'), ('그림', 'NNG'), ('이', 'VCP'), ('다', 'EF'), ('.', 'SF')]\n"
     ]
    }
   ],
   "source": [
    "# sentence = \"우리는 인공지능을 만들기 위해서 공부한다\"\n",
    "sentence = \"내가 그린 기린 그림은 목이 긴 기린 그린 그림이고, 네가 그린 기린 그림은 목이 안 긴 기린 그린 그림이다.\"\n",
    "\n",
    "morphs = mecab.morphs(sentence)\n",
    "print(\"Morphs:\", morphs)\n",
    "\n",
    "pos = mecab.pos(sentence)\n",
    "print(\"Pos tagging:\", pos)"
   ]
  },
  {
   "cell_type": "code",
   "execution_count": 6,
   "metadata": {},
   "outputs": [],
   "source": [
    "sentence = \"해시계는 매우 단순한 장치다. 땅에 막대기 하나만 꽂으면 원시적 형태의 해시계가 뚝딱 완성된다. 북반구에서는 그림자가 시계방향으로 돈다. 이 그림자 위치를 따라가며 시간을 적당히 표시하면 된다. 그런데 막대를 꽂을 때, 천구의 북극을 향하도록 하거나 대충 북극성을 가리키게 기울이면 정확성이 한결 높아진다. 이렇게 하면 계절이 바뀌어도 그림자가 가리키는 시각이 달라지지 않는다.가장 일반적인 해시계는 평평한 원판에 눈금이 표시된 것인데, 공원 같은 곳에서 쉽게 볼 수 있다. 이런 형태의 해시계는 그림자가 눈금판 주위를 도는 속도가 일정하지않기 때문에 시간 표시 간격이 균일하지 않다. 해시계가 잘 맞지 않는 이유는 여러 가지이다. 지구의 공전 속도가 일정하지 않은 탓도 있고, 서머타임 제도 때문이기도 하다.\""
   ]
  },
  {
   "cell_type": "code",
   "execution_count": 7,
   "metadata": {},
   "outputs": [],
   "source": [
    "# 형태소 분석 실행\n",
    "parsed = mecab.parse(sentence)"
   ]
  },
  {
   "cell_type": "code",
   "execution_count": 12,
   "metadata": {},
   "outputs": [],
   "source": [
    "# 각 Morpheme 객체의 surface 속성을 추출하여 단어 리스트로 변환\n",
    "word_list = [morpheme.surface for morpheme in parsed if morpheme.surface.strip()]"
   ]
  },
  {
   "cell_type": "code",
   "execution_count": 13,
   "metadata": {},
   "outputs": [
    {
     "data": {
      "text/plain": [
       "['해시계',\n",
       " '는',\n",
       " '매우',\n",
       " '단순',\n",
       " '한',\n",
       " '장치',\n",
       " '다',\n",
       " '.',\n",
       " '땅',\n",
       " '에',\n",
       " '막대기',\n",
       " '하나',\n",
       " '만',\n",
       " '꽂',\n",
       " '으면',\n",
       " '원시',\n",
       " '적',\n",
       " '형태',\n",
       " '의',\n",
       " '해시계',\n",
       " '가',\n",
       " '뚝딱',\n",
       " '완성',\n",
       " '된다',\n",
       " '.',\n",
       " '북반구',\n",
       " '에서',\n",
       " '는',\n",
       " '그림자',\n",
       " '가',\n",
       " '시계',\n",
       " '방향',\n",
       " '으로',\n",
       " '돈다',\n",
       " '.',\n",
       " '이',\n",
       " '그림자',\n",
       " '위치',\n",
       " '를',\n",
       " '따라가',\n",
       " '며',\n",
       " '시간',\n",
       " '을',\n",
       " '적당히',\n",
       " '표시',\n",
       " '하',\n",
       " '면',\n",
       " '된다',\n",
       " '.',\n",
       " '그런데',\n",
       " '막대',\n",
       " '를',\n",
       " '꽂',\n",
       " '을',\n",
       " '때',\n",
       " ',',\n",
       " '천구',\n",
       " '의',\n",
       " '북극',\n",
       " '을',\n",
       " '향하',\n",
       " '도록',\n",
       " '하',\n",
       " '거나',\n",
       " '대충',\n",
       " '북극성',\n",
       " '을',\n",
       " '가리키',\n",
       " '게',\n",
       " '기울이',\n",
       " '면',\n",
       " '정확',\n",
       " '성',\n",
       " '이',\n",
       " '한결',\n",
       " '높',\n",
       " '아',\n",
       " '진다',\n",
       " '.',\n",
       " '이렇게',\n",
       " '하',\n",
       " '면',\n",
       " '계절',\n",
       " '이',\n",
       " '바뀌',\n",
       " '어도',\n",
       " '그림자',\n",
       " '가',\n",
       " '가리키',\n",
       " '는',\n",
       " '시각',\n",
       " '이',\n",
       " '달라지',\n",
       " '지',\n",
       " '않',\n",
       " '는다',\n",
       " '.',\n",
       " '가장',\n",
       " '일반',\n",
       " '적',\n",
       " '인',\n",
       " '해시계',\n",
       " '는',\n",
       " '평평',\n",
       " '한',\n",
       " '원판',\n",
       " '에',\n",
       " '눈금',\n",
       " '이',\n",
       " '표시',\n",
       " '된',\n",
       " '것',\n",
       " '인데',\n",
       " ',',\n",
       " '공원',\n",
       " '같',\n",
       " '은',\n",
       " '곳',\n",
       " '에서',\n",
       " '쉽',\n",
       " '게',\n",
       " '볼',\n",
       " '수',\n",
       " '있',\n",
       " '다',\n",
       " '.',\n",
       " '이런',\n",
       " '형태',\n",
       " '의',\n",
       " '해시계',\n",
       " '는',\n",
       " '그림자',\n",
       " '가',\n",
       " '눈금판',\n",
       " '주위',\n",
       " '를',\n",
       " '도',\n",
       " '는',\n",
       " '속도',\n",
       " '가',\n",
       " '일정',\n",
       " '하',\n",
       " '지',\n",
       " '않',\n",
       " '기',\n",
       " '때문',\n",
       " '에',\n",
       " '시간',\n",
       " '표시',\n",
       " '간격',\n",
       " '이',\n",
       " '균일',\n",
       " '하',\n",
       " '지',\n",
       " '않',\n",
       " '다',\n",
       " '.',\n",
       " '해시계',\n",
       " '가',\n",
       " '잘',\n",
       " '맞',\n",
       " '지',\n",
       " '않',\n",
       " '는',\n",
       " '이유',\n",
       " '는',\n",
       " '여러',\n",
       " '가지',\n",
       " '이',\n",
       " '다',\n",
       " '.',\n",
       " '지구',\n",
       " '의',\n",
       " '공전',\n",
       " '속도',\n",
       " '가',\n",
       " '일정',\n",
       " '하',\n",
       " '지',\n",
       " '않',\n",
       " '은',\n",
       " '탓',\n",
       " '도',\n",
       " '있',\n",
       " '고',\n",
       " ',',\n",
       " '서머',\n",
       " '타임',\n",
       " '제도',\n",
       " '때문',\n",
       " '이',\n",
       " '기',\n",
       " '도',\n",
       " '하',\n",
       " '다',\n",
       " '.']"
      ]
     },
     "execution_count": 13,
     "metadata": {},
     "output_type": "execute_result"
    }
   ],
   "source": [
    "word_list"
   ]
  },
  {
   "cell_type": "code",
   "execution_count": 14,
   "metadata": {},
   "outputs": [
    {
     "data": {
      "text/plain": [
       "196"
      ]
     },
     "execution_count": 14,
     "metadata": {},
     "output_type": "execute_result"
    }
   ],
   "source": [
    "len(word_list)"
   ]
  },
  {
   "cell_type": "code",
   "execution_count": 15,
   "metadata": {},
   "outputs": [],
   "source": [
    "# 중복을 제거한 단어 리스트\n",
    "unique_words = set(word_list)"
   ]
  },
  {
   "cell_type": "code",
   "execution_count": 16,
   "metadata": {},
   "outputs": [
    {
     "data": {
      "text/plain": [
       "109"
      ]
     },
     "execution_count": 16,
     "metadata": {},
     "output_type": "execute_result"
    }
   ],
   "source": [
    "len(unique_words)"
   ]
  }
 ],
 "metadata": {
  "kernelspec": {
   "display_name": "base",
   "language": "python",
   "name": "python3"
  },
  "language_info": {
   "codemirror_mode": {
    "name": "ipython",
    "version": 3
   },
   "file_extension": ".py",
   "mimetype": "text/x-python",
   "name": "python",
   "nbconvert_exporter": "python",
   "pygments_lexer": "ipython3",
   "version": "3.12.2"
  }
 },
 "nbformat": 4,
 "nbformat_minor": 2
}
