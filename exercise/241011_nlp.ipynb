{
 "cells": [
  {
   "cell_type": "markdown",
   "metadata": {},
   "source": [
    "# Konlpy 사용"
   ]
  },
  {
   "cell_type": "code",
   "execution_count": 1,
   "metadata": {},
   "outputs": [],
   "source": [
    "from konlpy.tag import Okt"
   ]
  },
  {
   "cell_type": "code",
   "execution_count": 2,
   "metadata": {},
   "outputs": [],
   "source": [
    "okt = Okt()"
   ]
  },
  {
   "cell_type": "code",
   "execution_count": 3,
   "metadata": {},
   "outputs": [
    {
     "name": "stdout",
     "output_type": "stream",
     "text": [
      "Morphs: ['우리', '는', '인공', '지능', '을', '만들기', '위해', '서', '공부', '한다']\n",
      "Pos tagging: [('우리', 'Noun'), ('는', 'Josa'), ('인공', 'Noun'), ('지능', 'Noun'), ('을', 'Josa'), ('만들기', 'Noun'), ('위해', 'Noun'), ('서', 'Josa'), ('공부', 'Noun'), ('한다', 'Verb')]\n"
     ]
    }
   ],
   "source": [
    "sentence = \"우리는 인공지능을 만들기 위해서 공부한다\"\n",
    "\n",
    "# Perform morphological analysis(형태소 분석)\n",
    "morphs = okt.morphs(sentence)\n",
    "print(\"Morphs:\", morphs)\n",
    "\n",
    "# Perform part-of-speech tagging(품사 태깅)\n",
    "pos = okt.pos(sentence)\n",
    "print(\"Pos tagging:\", pos)"
   ]
  },
  {
   "cell_type": "markdown",
   "metadata": {},
   "source": [
    "# Mecab-ko 사용"
   ]
  },
  {
   "cell_type": "code",
   "execution_count": 14,
   "metadata": {},
   "outputs": [],
   "source": [
    "from mecab import MeCab"
   ]
  },
  {
   "cell_type": "code",
   "execution_count": 15,
   "metadata": {},
   "outputs": [],
   "source": [
    "mecab = MeCab()"
   ]
  },
  {
   "cell_type": "code",
   "execution_count": 3,
   "metadata": {},
   "outputs": [
    {
     "name": "stdout",
     "output_type": "stream",
     "text": [
      "Morphs: ['내', '가', '그린', '기린', '그림', '은', '목', '이', '긴', '기린', '그린', '그림', '이', '고', ',', '네', '가', '그린', '기린', '그림', '은', '목', '이', '안', '긴', '기린', '그린', '그림', '이', '다', '.']\n",
      "Pos tagging: [('내', 'NP'), ('가', 'JKS'), ('그린', 'VV+ETM'), ('기린', 'NNG'), ('그림', 'NNG'), ('은', 'JX'), ('목', 'NNG'), ('이', 'JKS'), ('긴', 'VA+ETM'), ('기린', 'NNG'), ('그린', 'VV+ETM'), ('그림', 'NNG'), ('이', 'VCP'), ('고', 'EC'), (',', 'SC'), ('네', 'NP'), ('가', 'JKS'), ('그린', 'VV+ETM'), ('기린', 'NNG'), ('그림', 'NNG'), ('은', 'JX'), ('목', 'NNG'), ('이', 'JKS'), ('안', 'MAG'), ('긴', 'VA+ETM'), ('기린', 'NNG'), ('그린', 'VV+ETM'), ('그림', 'NNG'), ('이', 'VCP'), ('다', 'EF'), ('.', 'SF')]\n"
     ]
    }
   ],
   "source": [
    "# sentence = \"우리는 인공지능을 만들기 위해서 공부한다\"\n",
    "sentence = \"내가 그린 기린 그림은 목이 긴 기린 그린 그림이고, 네가 그린 기린 그림은 목이 안 긴 기린 그린 그림이다.\"\n",
    "\n",
    "morphs = mecab.morphs(sentence)\n",
    "print(\"Morphs:\", morphs)\n",
    "\n",
    "pos = mecab.pos(sentence)\n",
    "print(\"Pos tagging:\", pos)"
   ]
  },
  {
   "cell_type": "code",
   "execution_count": 16,
   "metadata": {},
   "outputs": [],
   "source": [
    "sentence = \"해시계는 매우 단순한 장치다. 땅에 막대기 하나만 꽂으면 원시적 형태의 해시계가 뚝딱 완성된다. 북반구에서는 그림자가 시계방향으로 돈다. 이 그림자 위치를 따라가며 시간을 적당히 표시하면 된다. 그런데 막대를 꽂을 때, 천구의 북극을 향하도록 하거나 대충 북극성을 가리키게 기울이면 정확성이 한결 높아진다. 이렇게 하면 계절이 바뀌어도 그림자가 가리키는 시각이 달라지지 않는다.가장 일반적인 해시계는 평평한 원판에 눈금이 표시된 것인데, 공원 같은 곳에서 쉽게 볼 수 있다. 이런 형태의 해시계는 그림자가 눈금판 주위를 도는 속도가 일정하지않기 때문에 시간 표시 간격이 균일하지 않다. 해시계가 잘 맞지 않는 이유는 여러 가지이다. 지구의 공전 속도가 일정하지 않은 탓도 있고, 서머타임 제도 때문이기도 하다.\""
   ]
  },
  {
   "cell_type": "code",
   "execution_count": 17,
   "metadata": {},
   "outputs": [],
   "source": [
    "# 3. 형태소 분석 실행\n",
    "parsed = mecab.parse(sentence)"
   ]
  }
 ],
 "metadata": {
  "kernelspec": {
   "display_name": "base",
   "language": "python",
   "name": "python3"
  },
  "language_info": {
   "codemirror_mode": {
    "name": "ipython",
    "version": 3
   },
   "file_extension": ".py",
   "mimetype": "text/x-python",
   "name": "python",
   "nbconvert_exporter": "python",
   "pygments_lexer": "ipython3",
   "version": "3.12.2"
  }
 },
 "nbformat": 4,
 "nbformat_minor": 2
}
