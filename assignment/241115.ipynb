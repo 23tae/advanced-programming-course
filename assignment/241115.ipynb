{
 "cells": [
  {
   "cell_type": "code",
   "execution_count": 1,
   "metadata": {},
   "outputs": [],
   "source": [
    "import pandas as pd\n",
    "from sklearn.datasets import load_iris\n",
    "from sklearn.linear_model import LogisticRegression\n",
    "from sklearn.metrics import classification_report, confusion_matrix\n",
    "import numpy as np"
   ]
  },
  {
   "cell_type": "code",
   "execution_count": 2,
   "metadata": {},
   "outputs": [],
   "source": [
    "# 1. 데이터 준비\n",
    "iris = load_iris()\n",
    "iris_df = pd.DataFrame(data=np.c_[iris['data'], iris['target']], columns=iris['feature_names'] + ['species'])\n",
    "\n",
    "# Versicolor (species=1), Virginica (species=2) 데이터만 필터링\n",
    "iris_df = iris_df[iris_df['species'].isin([1, 2])]\n",
    "iris_df = iris_df.reset_index(drop=True)  # 인덱스 초기화\n",
    "\n",
    "# 컬럼 이름 간단히 변경\n",
    "iris_df.columns = ['sl', 'sw', 'pl', 'pw', 'species']\n",
    "\n",
    "# Y값 조정: Versicolor=0, Virginica=1\n",
    "iris_df['species'] = iris_df['species'] - 1\n",
    "\n",
    "# X와 Y 데이터 준비\n",
    "X = iris_df[['sl', 'sw', 'pl', 'pw']]\n",
    "y = iris_df['species']"
   ]
  },
  {
   "cell_type": "code",
   "execution_count": 3,
   "metadata": {},
   "outputs": [],
   "source": [
    "# 2. 규제가 있는 경우 (기본: L2 Regularization)\n",
    "clf_l2 = LogisticRegression()  # 기본: L2 정규화\n",
    "clf_l2.fit(X, y)               # 학습\n",
    "y_pred_l2 = clf_l2.predict(X)  # 예측\n",
    "y_prob_l2 = clf_l2.predict_proba(X)[:, 1]  # y=1일 확률"
   ]
  },
  {
   "cell_type": "code",
   "execution_count": 4,
   "metadata": {},
   "outputs": [
    {
     "data": {
      "text/plain": [
       "array([[-0.39629303, -0.5122079 ,  2.93019683,  2.41380088]])"
      ]
     },
     "execution_count": 4,
     "metadata": {},
     "output_type": "execute_result"
    }
   ],
   "source": [
    "clf_l2.coef_"
   ]
  },
  {
   "cell_type": "code",
   "execution_count": 5,
   "metadata": {},
   "outputs": [
    {
     "data": {
      "text/plain": [
       "array([-14.41402286])"
      ]
     },
     "execution_count": 5,
     "metadata": {},
     "output_type": "execute_result"
    }
   ],
   "source": [
    "clf_l2.intercept_"
   ]
  },
  {
   "cell_type": "code",
   "execution_count": 6,
   "metadata": {},
   "outputs": [
    {
     "name": "stdout",
     "output_type": "stream",
     "text": [
      "=== L2 Regularization (Default) ===\n",
      "\n",
      "Classification Report (L2):\n",
      "              precision    recall  f1-score   support\n",
      "\n",
      "         0.0       0.98      0.94      0.96        50\n",
      "         1.0       0.94      0.98      0.96        50\n",
      "\n",
      "    accuracy                           0.96       100\n",
      "   macro avg       0.96      0.96      0.96       100\n",
      "weighted avg       0.96      0.96      0.96       100\n",
      "\n",
      "\n",
      "Confusion Matrix (L2):\n",
      "[[47  3]\n",
      " [ 1 49]]\n"
     ]
    }
   ],
   "source": [
    "# 결과 출력\n",
    "print(\"=== L2 Regularization (Default) ===\")\n",
    "print(\"\\nClassification Report (L2):\")\n",
    "print(classification_report(y, y_pred_l2))\n",
    "print(\"\\nConfusion Matrix (L2):\")\n",
    "print(confusion_matrix(y, y_pred_l2))"
   ]
  },
  {
   "cell_type": "code",
   "execution_count": 7,
   "metadata": {},
   "outputs": [],
   "source": [
    "# 3. 규제가 없는 경우 (penalty=None)\n",
    "clf_none = LogisticRegression(penalty=None, solver='lbfgs', max_iter=200)  # 규제 없음\n",
    "clf_none.fit(X, y)              # 학습\n",
    "y_pred_none = clf_none.predict(X)  # 예측\n",
    "y_prob_none = clf_none.predict_proba(X)[:, 1]  # y=1일 확률\n"
   ]
  },
  {
   "cell_type": "code",
   "execution_count": 8,
   "metadata": {},
   "outputs": [
    {
     "data": {
      "text/plain": [
       "array([[-2.45797773, -6.6928879 ,  9.42587733, 18.35538499]])"
      ]
     },
     "execution_count": 8,
     "metadata": {},
     "output_type": "execute_result"
    }
   ],
   "source": [
    "clf_none.coef_"
   ]
  },
  {
   "cell_type": "code",
   "execution_count": 9,
   "metadata": {},
   "outputs": [
    {
     "data": {
      "text/plain": [
       "array([-42.74748987])"
      ]
     },
     "execution_count": 9,
     "metadata": {},
     "output_type": "execute_result"
    }
   ],
   "source": [
    "clf_none.intercept_"
   ]
  },
  {
   "cell_type": "code",
   "execution_count": 30,
   "metadata": {},
   "outputs": [
    {
     "name": "stdout",
     "output_type": "stream",
     "text": [
      "\n",
      "=== No Regularization (penalty=None) ===\n",
      "\n",
      "Classification Report (No Regularization):\n",
      "              precision    recall  f1-score   support\n",
      "\n",
      "         0.0       0.98      0.98      0.98        50\n",
      "         1.0       0.98      0.98      0.98        50\n",
      "\n",
      "    accuracy                           0.98       100\n",
      "   macro avg       0.98      0.98      0.98       100\n",
      "weighted avg       0.98      0.98      0.98       100\n",
      "\n",
      "\n",
      "Confusion Matrix (No Regularization):\n",
      "[[49  1]\n",
      " [ 1 49]]\n"
     ]
    }
   ],
   "source": [
    "# 결과 출력\n",
    "print(\"\\n=== No Regularization (penalty=None) ===\")\n",
    "print(\"\\nClassification Report (No Regularization):\")\n",
    "print(classification_report(y, y_pred_none))\n",
    "print(\"\\nConfusion Matrix (No Regularization):\")\n",
    "print(confusion_matrix(y, y_pred_none))"
   ]
  },
  {
   "cell_type": "code",
   "execution_count": 31,
   "metadata": {},
   "outputs": [
    {
     "name": "stdout",
     "output_type": "stream",
     "text": [
      "\n",
      "=== Predicted Probabilities ===\n",
      "L2 Regularization (y_prob): [0.15764007 0.14396064 0.31916247 0.05151543 0.2100701  0.14390249\n",
      " 0.27548916 0.00406322 0.13032218 0.04519076 0.00857397 0.08617591\n",
      " 0.02222525 0.23765723 0.01175076 0.08433579 0.20370442 0.02489506\n",
      " 0.23302474 0.02123097 0.50464221 0.03208164 0.44706836 0.16838644\n",
      " 0.06309658 0.09162166 0.24997764 0.5370907  0.18685191 0.0047961\n",
      " 0.01741244 0.01027814 0.02250721 0.6527939  0.216863   0.1846251\n",
      " 0.22021667 0.11325256 0.04661309 0.04673383 0.10565166 0.18096735\n",
      " 0.03146482 0.0041104  0.07099812 0.04714975 0.06217979 0.06794742\n",
      " 0.00188891 0.04948534 0.99340436 0.80763907 0.97321638 0.91355791\n",
      " 0.97766369 0.99570418 0.41410253 0.98223703 0.95213295 0.99181653\n",
      " 0.75815903 0.85606757 0.92687343 0.82129898 0.93024257 0.92360884\n",
      " 0.87373265 0.99605287 0.99906393 0.58735629 0.96971513 0.75363989\n",
      " 0.99616697 0.60089024 0.95309685 0.95345287 0.52611737 0.58292004\n",
      " 0.95662813 0.88627728 0.97538915 0.98353204 0.96560966 0.5547432\n",
      " 0.83552101 0.9881539  0.97207875 0.87244828 0.5203342  0.89620539\n",
      " 0.97194667 0.8531416  0.80763907 0.98356907 0.98160576 0.89870845\n",
      " 0.74000935 0.82318458 0.94060194 0.73107235]\n",
      "No Regularization (y_prob): [1.15200180e-05 4.79040238e-05 1.18643836e-03 4.13044197e-05\n",
      " 1.39659855e-03 9.90684386e-05 1.29358917e-03 5.11470337e-10\n",
      " 1.42536742e-05 1.45005306e-05 3.83236472e-08 3.69296121e-05\n",
      " 9.58179870e-08 7.83178454e-04 1.34218588e-08 2.78156541e-06\n",
      " 1.30362315e-03 1.41567258e-08 5.94248141e-02 8.39923669e-08\n",
      " 4.05428707e-01 3.32797824e-07 2.23550735e-01 3.89514853e-05\n",
      " 1.37831252e-06 6.94551596e-06 7.02561800e-04 2.76665370e-01\n",
      " 9.52749171e-04 1.23656220e-10 8.17139518e-08 5.07891980e-09\n",
      " 8.44442283e-08 8.66970817e-01 2.12956048e-03 2.10437556e-04\n",
      " 2.94719361e-04 2.50818285e-04 7.65503478e-07 1.08311084e-05\n",
      " 3.83946636e-05 1.56352204e-04 4.23251888e-07 7.81160478e-10\n",
      " 1.46321142e-05 2.45129279e-07 3.00072820e-06 2.25343250e-06\n",
      " 5.93932483e-11 2.28315160e-06 1.00000000e+00 9.99619121e-01\n",
      " 9.99999064e-01 9.99720571e-01 9.99999912e-01 9.99999996e-01\n",
      " 8.90591959e-01 9.99995550e-01 9.99992202e-01 9.99999993e-01\n",
      " 9.90445646e-01 9.99747295e-01 9.99980561e-01 9.99968007e-01\n",
      " 9.99999923e-01 9.99995351e-01 9.97714790e-01 9.99999927e-01\n",
      " 1.00000000e+00 9.20029985e-01 9.99999634e-01 9.99521950e-01\n",
      " 9.99999996e-01 9.48969105e-01 9.99982813e-01 9.99561970e-01\n",
      " 8.25903221e-01 8.03240845e-01 9.99999257e-01 9.71114686e-01\n",
      " 9.99996938e-01 9.99920359e-01 9.99999881e-01 2.02978140e-01\n",
      " 9.65768883e-01 9.99999984e-01 9.99999869e-01 9.96514036e-01\n",
      " 6.70375577e-01 9.99875435e-01 9.99999953e-01 9.99946398e-01\n",
      " 9.99619121e-01 9.99999957e-01 9.99999989e-01 9.99993459e-01\n",
      " 9.99124333e-01 9.99015433e-01 9.99995774e-01 9.77761597e-01]\n"
     ]
    }
   ],
   "source": [
    "# 4. 확률 출력 (y_prob)\n",
    "print(\"\\n=== Predicted Probabilities ===\")\n",
    "print(\"L2 Regularization (y_prob):\", y_prob_l2)\n",
    "print(\"No Regularization (y_prob):\", y_prob_none)"
   ]
  },
  {
   "cell_type": "code",
   "execution_count": null,
   "metadata": {},
   "outputs": [],
   "source": []
  }
 ],
 "metadata": {
  "kernelspec": {
   "display_name": "base",
   "language": "python",
   "name": "python3"
  },
  "language_info": {
   "codemirror_mode": {
    "name": "ipython",
    "version": 3
   },
   "file_extension": ".py",
   "mimetype": "text/x-python",
   "name": "python",
   "nbconvert_exporter": "python",
   "pygments_lexer": "ipython3",
   "version": "3.12.2"
  }
 },
 "nbformat": 4,
 "nbformat_minor": 2
}
